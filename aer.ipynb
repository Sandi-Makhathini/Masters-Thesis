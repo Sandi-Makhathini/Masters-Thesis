{
 "cells": [
  {
   "cell_type": "code",
   "execution_count": 1,
   "id": "5be9b485",
   "metadata": {},
   "outputs": [],
   "source": [
    "#Cleaning and sorting data before the main process\n",
    "\n",
    "from datetime import time\n",
    "import pandas as pd \n",
    "import re\n",
    "from IPython.core.debugger import set_trace \n",
    "import matplotlib.pyplot as plt"
   ]
  },
  {
   "cell_type": "code",
   "execution_count": 2,
   "id": "8335fea8",
   "metadata": {},
   "outputs": [],
   "source": [
    "#Read in data\n",
    "aer = pd.read_excel(\"C:/Users/mamth/Desktop/MPhil Research/GS Citation Count Data/AER.xlsx\")"
   ]
  },
  {
   "cell_type": "code",
   "execution_count": 3,
   "id": "a1de74de",
   "metadata": {},
   "outputs": [
    {
     "name": "stdout",
     "output_type": "stream",
     "text": [
      "<class 'pandas.core.frame.DataFrame'>\n",
      "RangeIndex: 9208 entries, 0 to 9207\n",
      "Data columns (total 3 columns):\n",
      " #   Column   Non-Null Count  Dtype \n",
      "---  ------   --------------  ----- \n",
      " 0   Title    9208 non-null   object\n",
      " 1   year     9208 non-null   int64 \n",
      " 2   citedby  9208 non-null   int64 \n",
      "dtypes: int64(2), object(1)\n",
      "memory usage: 215.9+ KB\n"
     ]
    }
   ],
   "source": [
    "aer.info()"
   ]
  },
  {
   "cell_type": "code",
   "execution_count": 4,
   "id": "dadc9c79",
   "metadata": {},
   "outputs": [],
   "source": [
    "# g = aer.sort_values(['year','citedby'],ascending=False).groupby('year')"
   ]
  },
  {
   "cell_type": "code",
   "execution_count": 4,
   "id": "a685f487",
   "metadata": {},
   "outputs": [
    {
     "name": "stdout",
     "output_type": "stream",
     "text": [
      "      citedby\n",
      "year         \n",
      "1940        3\n",
      "1941        1\n",
      "1942        3\n",
      "1943        2\n",
      "1944        1\n",
      "...       ...\n",
      "2006       97\n",
      "2007       89\n",
      "2008       98\n",
      "2009       97\n",
      "2010       81\n",
      "\n",
      "[71 rows x 1 columns]\n"
     ]
    }
   ],
   "source": [
    "# Group the data frame by year and extract the h-index for each year\n",
    "x = aer.sort_values(['year','citedby'],ascending=False).groupby(\n",
    "   ['year']\n",
    ").agg(\n",
    "    {\n",
    "        'citedby':lambda citedby: (citedby >= citedby.count()).sum()         \n",
    "    }\n",
    ")\n",
    "\n",
    "print(x)\n"
   ]
  },
  {
   "cell_type": "code",
   "execution_count": 5,
   "id": "434f984b",
   "metadata": {},
   "outputs": [],
   "source": [
    "x1 = pd.DataFrame(x)"
   ]
  },
  {
   "cell_type": "code",
   "execution_count": 6,
   "id": "9884a4d8",
   "metadata": {},
   "outputs": [
    {
     "data": {
      "text/plain": [
       "Text(0.5, 1.0, 'H-index of AER from 1940 to 2010')"
      ]
     },
     "execution_count": 6,
     "metadata": {},
     "output_type": "execute_result"
    },
    {
     "data": {
      "image/png": "[encoded data removed]",
      "text/plain": [
       "<Figure size 432x288 with 1 Axes>"
      ]
     },
     "metadata": {
      "needs_background": "light"
     },
     "output_type": "display_data"
    }
   ],
   "source": [
    "#plot h-indexs\n",
    "plt.plot(x1)\n",
    "plt.xlabel('Year')\n",
    "plt.ylabel('H-index')\n",
    "plt.title('H-index of AER from 1940 to 2010')"
   ]
  },
  {
   "cell_type": "code",
   "execution_count": null,
   "id": "4f654cc9",
   "metadata": {},
   "outputs": [],
   "source": []
  }
 ],
 "metadata": {
  "kernelspec": {
   "display_name": "Python 3 (ipykernel)",
   "language": "python",
   "name": "python3"
  },
  "language_info": {
   "codemirror_mode": {
    "name": "ipython",
    "version": 3
   },
   "file_extension": ".py",
   "mimetype": "text/x-python",
   "name": "python",
   "nbconvert_exporter": "python",
   "pygments_lexer": "ipython3",
   "version": "3.10.2"
  }
 },
 "nbformat": 4,
 "nbformat_minor": 5
}
